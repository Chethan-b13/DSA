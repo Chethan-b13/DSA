{
 "cells": [
  {
   "cell_type": "code",
   "execution_count": 1,
   "id": "f983c1d3",
   "metadata": {},
   "outputs": [],
   "source": [
    "class Node:\n",
    "    def __init__(self,data=0,left=None,right=None):\n",
    "        self.data = data\n",
    "        self.left = left\n",
    "        self.right = right"
   ]
  },
  {
   "cell_type": "code",
   "execution_count": 18,
   "id": "ab0a0b55",
   "metadata": {},
   "outputs": [],
   "source": [
    "class BinaryTree:\n",
    "    \n",
    "    def __init__(self):\n",
    "        self.root = None\n",
    "        self.indx = -1\n",
    "        \n",
    "    def isEmpty(self):\n",
    "        if self.root:\n",
    "            return False\n",
    "        \n",
    "        return True\n",
    "    \n",
    "    def buildTreePreOrder(self,preOrderList):\n",
    "        \n",
    "        self.indx += 1\n",
    "        \n",
    "        if preOrderList[self.indx]==-1:\n",
    "            return None\n",
    "        \n",
    "        newNode = Node(preOrderList[self.indx])\n",
    "        newNode.left = self.buildTreePreOrder(preOrderList)\n",
    "        newNode.right = self.buildTreePreOrder(preOrderList)\n",
    "        \n",
    "        return newNode\n",
    "    \n",
    "    def printTree(self,node, level=0):\n",
    "        if node != None:\n",
    "            self.printTree(node.right, level + 1)\n",
    "            print(' ' * 4 * level + '-> ' + str(node.data))\n",
    "            self.printTree(node.left, level + 1)\n",
    "            \n",
    "            \n",
    "    def preOrderTraversal(self,rootNode):\n",
    "        if rootNode==None:\n",
    "            return\n",
    "        \n",
    "        print(rootNode.data,end=\" \")\n",
    "        self.preOrderTraversal(rootNode.left)\n",
    "        self.preOrderTraversal(rootNode.right)\n",
    "        \n",
    "    def inOrderTraversal(self,rootNode):\n",
    "        if rootNode==None:\n",
    "            return\n",
    "        \n",
    "        self.inOrderTraversal(rootNode.left)\n",
    "        print(rootNode.data,end=\" \")\n",
    "        self.inOrderTraversal(rootNode.right)\n",
    "        \n",
    "    def postOrderTraversal(self,rootNode):\n",
    "        if rootNode==None:\n",
    "            return\n",
    "        \n",
    "        self.postOrderTraversal(rootNode.left)\n",
    "        self.postOrderTraversal(rootNode.right)\n",
    "        print(rootNode.data,end=\" \")\n",
    "        \n",
    "    def levelOrder(self,rootNode):\n",
    "        if rootNode is None:\n",
    "            return\n",
    "        queue = []\n",
    "        queue.append(rootNode)\n",
    "        queue.append(None)\n",
    "        \n",
    "        while len(queue)>0:\n",
    "            poppedNode = queue.pop(0)\n",
    "            if poppedNode is None:\n",
    "                print()\n",
    "                if len(queue)>0:\n",
    "                    queue.append(None)\n",
    "                continue\n",
    "               \n",
    "            print(poppedNode.data,end=\" \")\n",
    "            if poppedNode.left:\n",
    "                queue.append(poppedNode.left)\n",
    "            if poppedNode.right:\n",
    "                queue.append(poppedNode.right)\n",
    "                \n",
    "    def insertAtFirstAvailablePosition(self,rootNode,data):\n",
    "        newNode = Node(data)\n",
    "        queue = []\n",
    "        queue.append(rootNode)\n",
    "        \n",
    "        while len(queue)>0:\n",
    "            poppedNode = queue.pop(0)\n",
    "            \n",
    "            if not poppedNode.left:\n",
    "                poppedNode.left = newNode\n",
    "                break\n",
    "            else:\n",
    "                queue.append(poppedNode.left)\n",
    "                \n",
    "            if not poppedNode.right:\n",
    "                poppedNode.right = newNode\n",
    "                break\n",
    "            else:\n",
    "                queue.append(poppedNode.right)\n",
    "                \n",
    "    def numberOfNodes(self,rootNode):\n",
    "        if rootNode is None:\n",
    "            return 0\n",
    "        \n",
    "        total = self.numberOfNodes(rootNode.left) + self.numberOfNodes(rootNode.right) + 1\n",
    "        \n",
    "        return total \n",
    "    \n",
    "    def sumOfNodes(self,rootNode):\n",
    "        if rootNode is None:\n",
    "            return 0\n",
    "        \n",
    "        total = self.sumOfNodes(rootNode.left) + self.sumOfNodes(rootNode.right) + rootNode.data\n",
    "        \n",
    "        return total\n",
    "    \n",
    "    def height(self,rootNode):\n",
    "        if rootNode is None:\n",
    "            return 0\n",
    "        \n",
    "        leftHeight = self.height(rootNode.left)\n",
    "        rightHeight = self.height(rootNode.right)\n",
    "        \n",
    "        return max(leftHeight,rightHeight) + 1\n",
    "    \n",
    "    def diameter(self,rootNode):\n",
    "        \"\"\"\n",
    "        o(n^2) quadratic time\n",
    "        \n",
    "        logic : max of leftSubTreeDiameter,rightSubTreeDiameter,(leftHeight+rightHeight+1)\n",
    "        \"\"\"\n",
    "        \n",
    "        if rootNode is None:\n",
    "            return 0\n",
    "        \n",
    "        leftSubTreeDiameter = self.diameter(rootNode.left)\n",
    "        rightSubTreeDiameter = self.diameter(rootNode.right)\n",
    "        height = self.height(rootNode.left) + self.height(rootNode.right) + 1\n",
    "        \n",
    "        return max(leftSubTreeDiameter,rightSubTreeDiameter,height)\n",
    "    \n",
    "    \n",
    "    def diameter2(self,rootNode):\n",
    "        \"\"\"\n",
    "        o(n) linear time\n",
    "        \n",
    "        logic : calculating tree height along with the diameter only\n",
    "        \"\"\"\n",
    "        \n",
    "        if rootNode is None:\n",
    "            return {\n",
    "                \"dia\":0,\n",
    "                \"ht\":0\n",
    "            }\n",
    "        \n",
    "        leftDia = self.diameter2(rootNode.left)\n",
    "        rightDia = self.diameter2(rootNode.right)\n",
    "        \n",
    "        currHeight = max(leftDia['ht'], rightDia['ht']) + 1\n",
    "        \n",
    "        dia1 = leftDia[\"dia\"]\n",
    "        dia2 = rightDia[\"dia\"]\n",
    "        dia3 = leftDia['ht'] + rightDia['ht'] + 1\n",
    "        \n",
    "        return {\n",
    "            \"dia\": max(max(dia1,dia2),dia3),\n",
    "            \"ht\": currHeight\n",
    "        }\n",
    "    \n",
    "    def checkIfSubTree(self,root1,root2):\n",
    "        pass"
   ]
  },
  {
   "cell_type": "code",
   "execution_count": 19,
   "id": "dbf8b6b0",
   "metadata": {},
   "outputs": [],
   "source": [
    "bt = BinaryTree()"
   ]
  },
  {
   "cell_type": "code",
   "execution_count": 20,
   "id": "f651a36c",
   "metadata": {},
   "outputs": [],
   "source": [
    "btList = [1,2,3,-1,-1,4,-1,8,-1,-1,5,-1,6,-1,-1]"
   ]
  },
  {
   "cell_type": "code",
   "execution_count": 21,
   "id": "e063e524",
   "metadata": {},
   "outputs": [],
   "source": [
    "bt.root = bt.buildTreePreOrder(btList)"
   ]
  },
  {
   "cell_type": "code",
   "execution_count": 22,
   "id": "6a83a462",
   "metadata": {},
   "outputs": [
    {
     "name": "stdout",
     "output_type": "stream",
     "text": [
      "        -> 6\n",
      "    -> 5\n",
      "-> 1\n",
      "            -> 8\n",
      "        -> 4\n",
      "    -> 2\n",
      "        -> 3\n"
     ]
    }
   ],
   "source": [
    "bt.printTree(bt.root)"
   ]
  },
  {
   "cell_type": "code",
   "execution_count": 23,
   "id": "715d1a50",
   "metadata": {},
   "outputs": [
    {
     "name": "stdout",
     "output_type": "stream",
     "text": [
      "1 \n",
      "2 5 \n",
      "3 4 6 \n",
      "8 \n"
     ]
    }
   ],
   "source": [
    "bt.levelOrder(bt.root)"
   ]
  },
  {
   "cell_type": "code",
   "execution_count": 24,
   "id": "e624656c",
   "metadata": {},
   "outputs": [],
   "source": [
    "bt.insertAtFirstAvailablePosition(bt.root,3)"
   ]
  },
  {
   "cell_type": "code",
   "execution_count": 25,
   "id": "196ffc81",
   "metadata": {},
   "outputs": [
    {
     "name": "stdout",
     "output_type": "stream",
     "text": [
      "        -> 6\n",
      "    -> 5\n",
      "        -> 3\n",
      "-> 1\n",
      "            -> 8\n",
      "        -> 4\n",
      "    -> 2\n",
      "        -> 3\n"
     ]
    }
   ],
   "source": [
    "bt.printTree(bt.root)"
   ]
  },
  {
   "cell_type": "code",
   "execution_count": 26,
   "id": "1b4093ca",
   "metadata": {},
   "outputs": [
    {
     "data": {
      "text/plain": [
       "8"
      ]
     },
     "execution_count": 26,
     "metadata": {},
     "output_type": "execute_result"
    }
   ],
   "source": [
    "bt.numberOfNodes(bt.root)"
   ]
  },
  {
   "cell_type": "code",
   "execution_count": 27,
   "id": "e426bf5a",
   "metadata": {},
   "outputs": [
    {
     "data": {
      "text/plain": [
       "32"
      ]
     },
     "execution_count": 27,
     "metadata": {},
     "output_type": "execute_result"
    }
   ],
   "source": [
    "bt.sumOfNodes(bt.root)"
   ]
  },
  {
   "cell_type": "code",
   "execution_count": 28,
   "id": "810963c0",
   "metadata": {},
   "outputs": [
    {
     "data": {
      "text/plain": [
       "4"
      ]
     },
     "execution_count": 28,
     "metadata": {},
     "output_type": "execute_result"
    }
   ],
   "source": [
    "bt.height(bt.root)"
   ]
  },
  {
   "cell_type": "code",
   "execution_count": 29,
   "id": "9ff52ce9",
   "metadata": {},
   "outputs": [
    {
     "data": {
      "text/plain": [
       "6"
      ]
     },
     "execution_count": 29,
     "metadata": {},
     "output_type": "execute_result"
    }
   ],
   "source": [
    "bt.diameter(bt.root)"
   ]
  },
  {
   "cell_type": "code",
   "execution_count": 30,
   "id": "e2f16dac",
   "metadata": {},
   "outputs": [
    {
     "data": {
      "text/plain": [
       "{'dia': 6, 'ht': 4}"
      ]
     },
     "execution_count": 30,
     "metadata": {},
     "output_type": "execute_result"
    }
   ],
   "source": [
    "bt.diameter2(bt.root)"
   ]
  },
  {
   "cell_type": "code",
   "execution_count": null,
   "id": "fccdcbde",
   "metadata": {},
   "outputs": [],
   "source": []
  }
 ],
 "metadata": {
  "kernelspec": {
   "display_name": "Python 3 (ipykernel)",
   "language": "python",
   "name": "python3"
  },
  "language_info": {
   "codemirror_mode": {
    "name": "ipython",
    "version": 3
   },
   "file_extension": ".py",
   "mimetype": "text/x-python",
   "name": "python",
   "nbconvert_exporter": "python",
   "pygments_lexer": "ipython3",
   "version": "3.9.5"
  }
 },
 "nbformat": 4,
 "nbformat_minor": 5
}
