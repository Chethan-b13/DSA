{
 "cells": [
  {
   "cell_type": "code",
   "execution_count": 1,
   "id": "d8a0dab3",
   "metadata": {},
   "outputs": [],
   "source": [
    "class Node:\n",
    "    def __init__(self,data):\n",
    "        self.data = data\n",
    "        self.next = None"
   ]
  },
  {
   "cell_type": "code",
   "execution_count": 54,
   "id": "28a50ab2",
   "metadata": {},
   "outputs": [],
   "source": [
    "class LinkedList:\n",
    "    def __init__(self):\n",
    "        self.head = None\n",
    "        self.size = 0\n",
    "        \n",
    "    def append(self,data):\n",
    "        newNode = Node(data)\n",
    "        if self.head == None:\n",
    "            self.head = newNode\n",
    "        else:\n",
    "            temp = self.head\n",
    "            while temp.next != None:\n",
    "                temp = temp.next\n",
    "            temp.next = newNode\n",
    "        self.size += 1\n",
    "            \n",
    "    def is_empty(self):\n",
    "        if not self.head:\n",
    "            return True\n",
    "        return False\n",
    "    \n",
    "    def clear(self):\n",
    "        self.head = None\n",
    "        \n",
    "    def prepend(self,data):\n",
    "        newNode = Node(data)\n",
    "        if not self.is_empty():\n",
    "            newNode.next = self.head\n",
    "            self.head = newNode\n",
    "        else:\n",
    "            self.head = newNode\n",
    "            \n",
    "        self.size += 1\n",
    "            \n",
    "    def insert_after(self,node,data):\n",
    "        newNode = Node(data)\n",
    "        if not self.is_empty():\n",
    "            curr_node = self.head\n",
    "            while curr_node.data != node:\n",
    "                curr_node = curr_node.next\n",
    "                \n",
    "            temp = curr_node.next\n",
    "            newNode.next = temp\n",
    "            curr_node.next = newNode\n",
    "            self.size += 1\n",
    "        else:\n",
    "            print(\"Empty List\")\n",
    "            \n",
    "    def insert_before(self,node,data):\n",
    "        newNode = Node(data)\n",
    "        if not self.is_empty():\n",
    "            curr_node = self.head\n",
    "            if self.head.data == node:\n",
    "                newNode.next = self.head\n",
    "                self.head = newNode\n",
    "            else:\n",
    "                while curr_node.next.data != node:\n",
    "                    curr_node = curr_node.next\n",
    "                \n",
    "                temp = curr_node.next\n",
    "                newNode.next = temp\n",
    "                curr_node.next = newNode\n",
    "            self.size += 1\n",
    "        else:\n",
    "            print(\"Empty List\")\n",
    "            \n",
    "    def delete(self,data):\n",
    "        if self.is_empty():\n",
    "            print(\"Nothing to delete\")\n",
    "        else:\n",
    "            curr = self.head\n",
    "            prev_node = None\n",
    "            if self.head and self.head.data == data:\n",
    "                self.head == None\n",
    "                self.size -= 1\n",
    "            else:\n",
    "                while curr != None:\n",
    "                    if curr.data == data:\n",
    "                        break\n",
    "                    prev_node = curr\n",
    "                    curr = curr.next\n",
    "                \n",
    "                if curr:\n",
    "                    prev_node.next = curr.next\n",
    "                    curr.next = None\n",
    "                    self.size -= 1\n",
    "                else:\n",
    "                    print(\"Data not found in linkedList\")\n",
    "                    \n",
    "    def reverse_in_loop(self):\n",
    "        prev = None\n",
    "        curr = self.head\n",
    "        \n",
    "        while curr != None:\n",
    "            next_ = curr.next\n",
    "            curr.next = prev\n",
    "            prev = curr\n",
    "            curr = next_\n",
    "            \n",
    "        self.head = prev\n",
    "        \n",
    "    def reverse_recurr(self,curr,prev):\n",
    "        \n",
    "        if curr.next == None:\n",
    "            self.head = curr\n",
    "            curr.next = prev\n",
    "            \n",
    "            return\n",
    "        \n",
    "        next_ = curr.next\n",
    "        curr.next = prev\n",
    "        \n",
    "        self.reverse_recurr(next_,curr)\n",
    "        \n",
    "        \n",
    "\n",
    "    def reverse(self):\n",
    "        if self.is_empty() or self.head.next == None:\n",
    "            return \n",
    "        \n",
    "        self.reverse_recurr(self.head,None)\n",
    "        \n",
    "        \n",
    "                    \n",
    "    def get_size(self):\n",
    "        return self.size\n",
    "        \n",
    "            \n",
    "    def printList(self):\n",
    "        if not self.is_empty():\n",
    "            temp = self.head\n",
    "            while temp != None:\n",
    "                print(temp.data)\n",
    "                temp = temp.next\n",
    "        else:\n",
    "            print(\"Empty List\")"
   ]
  },
  {
   "cell_type": "code",
   "execution_count": 55,
   "id": "8a63237f",
   "metadata": {},
   "outputs": [],
   "source": [
    "linkers = LinkedList()"
   ]
  },
  {
   "cell_type": "code",
   "execution_count": 56,
   "id": "dd42b0f1",
   "metadata": {},
   "outputs": [
    {
     "name": "stdout",
     "output_type": "stream",
     "text": [
      "52\n",
      "10\n",
      "20\n"
     ]
    }
   ],
   "source": [
    "linkers.prepend(52)\n",
    "linkers.append(10)\n",
    "linkers.append(20)\n",
    "linkers.printList()"
   ]
  },
  {
   "cell_type": "code",
   "execution_count": 57,
   "id": "4b5b1175",
   "metadata": {},
   "outputs": [
    {
     "name": "stdout",
     "output_type": "stream",
     "text": [
      "33\n",
      "52\n",
      "10\n",
      "20\n"
     ]
    }
   ],
   "source": [
    "linkers.prepend(33)\n",
    "linkers.printList()\n"
   ]
  },
  {
   "cell_type": "code",
   "execution_count": 58,
   "id": "c4944006",
   "metadata": {},
   "outputs": [
    {
     "name": "stdout",
     "output_type": "stream",
     "text": [
      "33\n",
      "52\n",
      "10\n",
      "20\n",
      "45\n"
     ]
    }
   ],
   "source": [
    "linkers.insert_after(20,45)\n",
    "linkers.printList()"
   ]
  },
  {
   "cell_type": "code",
   "execution_count": 59,
   "id": "2cd925b5",
   "metadata": {},
   "outputs": [
    {
     "data": {
      "text/plain": [
       "5"
      ]
     },
     "execution_count": 59,
     "metadata": {},
     "output_type": "execute_result"
    }
   ],
   "source": [
    "linkers.get_size()"
   ]
  },
  {
   "cell_type": "code",
   "execution_count": 60,
   "id": "297a4cc1",
   "metadata": {},
   "outputs": [
    {
     "name": "stdout",
     "output_type": "stream",
     "text": [
      "300\n",
      "33\n",
      "52\n",
      "10\n",
      "20\n",
      "45\n"
     ]
    }
   ],
   "source": [
    "linkers.insert_before(33,300)\n",
    "linkers.printList()"
   ]
  },
  {
   "cell_type": "code",
   "execution_count": 61,
   "id": "3296ad8d",
   "metadata": {},
   "outputs": [
    {
     "name": "stdout",
     "output_type": "stream",
     "text": [
      "45\n",
      "20\n",
      "10\n",
      "52\n",
      "33\n",
      "300\n"
     ]
    }
   ],
   "source": [
    "linkers.reverse_in_loop()\n",
    "linkers.printList()"
   ]
  },
  {
   "cell_type": "code",
   "execution_count": 62,
   "id": "c72a0729",
   "metadata": {},
   "outputs": [
    {
     "name": "stdout",
     "output_type": "stream",
     "text": [
      "300\n",
      "33\n",
      "52\n",
      "10\n",
      "20\n",
      "45\n"
     ]
    }
   ],
   "source": [
    "linkers.reverse()\n",
    "linkers.printList()"
   ]
  },
  {
   "cell_type": "code",
   "execution_count": null,
   "id": "494e29ef",
   "metadata": {},
   "outputs": [],
   "source": []
  },
  {
   "cell_type": "code",
   "execution_count": null,
   "id": "76e0449e",
   "metadata": {},
   "outputs": [],
   "source": []
  }
 ],
 "metadata": {
  "kernelspec": {
   "display_name": "Python 3 (ipykernel)",
   "language": "python",
   "name": "python3"
  },
  "language_info": {
   "codemirror_mode": {
    "name": "ipython",
    "version": 3
   },
   "file_extension": ".py",
   "mimetype": "text/x-python",
   "name": "python",
   "nbconvert_exporter": "python",
   "pygments_lexer": "ipython3",
   "version": "3.9.5"
  }
 },
 "nbformat": 4,
 "nbformat_minor": 5
}
