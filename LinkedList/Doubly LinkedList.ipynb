{
 "cells": [
  {
   "cell_type": "code",
   "execution_count": 2,
   "id": "3b9e7a86",
   "metadata": {},
   "outputs": [],
   "source": [
    "class Node:\n",
    "    def __init__(self,data):\n",
    "        self.left = None\n",
    "        self.right = None\n",
    "        self.data = data"
   ]
  },
  {
   "cell_type": "code",
   "execution_count": 115,
   "id": "175a8a5f",
   "metadata": {},
   "outputs": [],
   "source": [
    "class DoublyLinkedList:\n",
    "    \n",
    "    def __init__(self):\n",
    "        self.head = None\n",
    "        self.size = 0\n",
    "        \n",
    "    def is_empty(self):\n",
    "        if self.head:\n",
    "            return False\n",
    "        \n",
    "        return True\n",
    "    \n",
    "    def printList(self):\n",
    "        if self.is_empty():\n",
    "            print(\"Empty List\")\n",
    "            \n",
    "        curr = self.head\n",
    "        \n",
    "        while curr !=None:\n",
    "            print(\" ----------------------\")\n",
    "            if curr.left and curr.right:\n",
    "                print(\"| \",curr.left.data,\" | \",curr.data,\" | \",curr.right.data,\" |\")\n",
    "            elif curr.left:\n",
    "                print(\"| \",curr.left.data,\" | \",curr.data,\" | \",\"None\",\" |\")\n",
    "            elif curr.right:\n",
    "                print(\"| \",\"None\",\" | \",curr.data,\" | \",curr.right.data,\" |\")\n",
    "            else:\n",
    "                print(\"| \",\"None\",\" | \",curr.data,\" | \",\"None\",\" |\")\n",
    "            print(\" ----------------------\")\n",
    "            curr = curr.right\n",
    "        \n",
    "    def append(self,data):\n",
    "        newNode = Node(data)\n",
    "        if self.is_empty():\n",
    "            self.head = newNode\n",
    "        else:\n",
    "            curr = self.head\n",
    "            \n",
    "            while curr.right != None:\n",
    "                curr = curr.right\n",
    "            \n",
    "            curr.right = newNode\n",
    "            newNode.left = curr\n",
    "            \n",
    "        self.size += 1\n",
    "            \n",
    "    def prepend(self,data):\n",
    "        newNode = Node(data)\n",
    "        \n",
    "        if self.is_empty():\n",
    "            self.head = newNode\n",
    "        else:\n",
    "            currNode = self.head\n",
    "            newNode.right = currNode\n",
    "            currNode.left = newNode\n",
    "            self.head = newNode\n",
    "            \n",
    "        self.size += 1\n",
    "            \n",
    "    def insertAfter(self,data,afterNode):\n",
    "        if self.is_empty():\n",
    "            print(f\"{afterNode} Not Found, List is Empty\")\n",
    "            return \n",
    "        \n",
    "        newNode = Node(data)\n",
    "        \n",
    "        if not self.head.right:\n",
    "            if self.head.data == afterNode:\n",
    "                self.head.right = newNode\n",
    "                newNode.left = self.head\n",
    "                self.size += 1\n",
    "            else:\n",
    "                print(f\"{afterNode} Not Found\")\n",
    "                \n",
    "            return\n",
    "        \n",
    "    \n",
    "        curr = self.head\n",
    "        while curr.data != afterNode:\n",
    "            if not curr.right:\n",
    "                print(f\"{afterNode} Not Found in the list\")\n",
    "                break\n",
    "            curr = curr.right\n",
    "            \n",
    "        nextNode = curr.right\n",
    "        curr.right = newNode\n",
    "        newNode.left = curr\n",
    "        newNode.right = nextNode\n",
    "        self.size += 1\n",
    "        \n",
    "    def swapTwoNode(self,firstNode,secondNode):\n",
    "        if self.is_empty():\n",
    "            print(f\"{firstNode},{secondNode} Not Found, List is Empty\")\n",
    "            return\n",
    "        \n",
    "        if self.size == 1:\n",
    "            print(\"List Should atleast have 2 nodes!\")\n",
    "            return\n",
    "        \n",
    "        \n",
    "        \n",
    "        \n",
    "        "
   ]
  },
  {
   "cell_type": "code",
   "execution_count": 116,
   "id": "12b9b794",
   "metadata": {},
   "outputs": [],
   "source": [
    "lister = DoublyLinkedList()"
   ]
  },
  {
   "cell_type": "code",
   "execution_count": 117,
   "id": "b26eea5f",
   "metadata": {},
   "outputs": [
    {
     "name": "stdout",
     "output_type": "stream",
     "text": [
      " ----------------------\n",
      "|  None  |  35  |  None  |\n",
      " ----------------------\n"
     ]
    }
   ],
   "source": [
    "lister.append(35)\n",
    "# lister.append(45)\n",
    "# lister.append(85)\n",
    "lister.printList()"
   ]
  },
  {
   "cell_type": "code",
   "execution_count": 120,
   "id": "61a8ddb2",
   "metadata": {},
   "outputs": [
    {
     "name": "stdout",
     "output_type": "stream",
     "text": [
      " ----------------------\n",
      "|  None  |  35  |  100  |\n",
      " ----------------------\n",
      " ----------------------\n",
      "|  35  |  100  |  None  |\n",
      " ----------------------\n"
     ]
    }
   ],
   "source": [
    "lister.insertAfter(100,35)\n",
    "lister.printList()"
   ]
  },
  {
   "cell_type": "code",
   "execution_count": 121,
   "id": "5f1ebe72",
   "metadata": {},
   "outputs": [
    {
     "data": {
      "text/plain": [
       "2"
      ]
     },
     "execution_count": 121,
     "metadata": {},
     "output_type": "execute_result"
    }
   ],
   "source": [
    "lister.size"
   ]
  },
  {
   "cell_type": "code",
   "execution_count": null,
   "id": "6d36fd3c",
   "metadata": {},
   "outputs": [],
   "source": []
  }
 ],
 "metadata": {
  "kernelspec": {
   "display_name": "Python 3 (ipykernel)",
   "language": "python",
   "name": "python3"
  },
  "language_info": {
   "codemirror_mode": {
    "name": "ipython",
    "version": 3
   },
   "file_extension": ".py",
   "mimetype": "text/x-python",
   "name": "python",
   "nbconvert_exporter": "python",
   "pygments_lexer": "ipython3",
   "version": "3.9.5"
  }
 },
 "nbformat": 4,
 "nbformat_minor": 5
}
